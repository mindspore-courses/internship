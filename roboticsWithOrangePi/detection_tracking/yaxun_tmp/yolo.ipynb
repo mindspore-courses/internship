{
 "cells": [
  {
   "cell_type": "code",
   "execution_count": 3,
   "metadata": {},
   "outputs": [
    {
     "name": "stdout",
     "output_type": "stream",
     "text": [
      "\n",
      "image 1/1 /home/yaxun/FoundationPose/demo_data/realDex/rgb/73.jpg: 384x640 1 person, 1 suitcase, 1 chair, 15.6ms\n",
      "Speed: 1.3ms preprocess, 15.6ms inference, 0.7ms postprocess per image at shape (1, 3, 384, 640)\n",
      "Results saved to \u001b[1m/home/yaxun/FoundationPose/yolov10/runs/detect/predict2\u001b[0m\n"
     ]
    },
    {
     "data": {
      "text/plain": [
       "[ultralytics.engine.results.Results object with attributes:\n",
       " \n",
       " boxes: ultralytics.engine.results.Boxes object\n",
       " keypoints: None\n",
       " masks: None\n",
       " names: {0: 'person', 1: 'bicycle', 2: 'car', 3: 'motorcycle', 4: 'airplane', 5: 'bus', 6: 'train', 7: 'truck', 8: 'boat', 9: 'traffic light', 10: 'fire hydrant', 11: 'stop sign', 12: 'parking meter', 13: 'bench', 14: 'bird', 15: 'cat', 16: 'dog', 17: 'horse', 18: 'sheep', 19: 'cow', 20: 'elephant', 21: 'bear', 22: 'zebra', 23: 'giraffe', 24: 'backpack', 25: 'umbrella', 26: 'handbag', 27: 'tie', 28: 'suitcase', 29: 'frisbee', 30: 'skis', 31: 'snowboard', 32: 'sports ball', 33: 'kite', 34: 'baseball bat', 35: 'baseball glove', 36: 'skateboard', 37: 'surfboard', 38: 'tennis racket', 39: 'bottle', 40: 'wine glass', 41: 'cup', 42: 'fork', 43: 'knife', 44: 'spoon', 45: 'bowl', 46: 'banana', 47: 'apple', 48: 'sandwich', 49: 'orange', 50: 'broccoli', 51: 'carrot', 52: 'hot dog', 53: 'pizza', 54: 'donut', 55: 'cake', 56: 'chair', 57: 'couch', 58: 'potted plant', 59: 'bed', 60: 'dining table', 61: 'toilet', 62: 'tv', 63: 'laptop', 64: 'mouse', 65: 'remote', 66: 'keyboard', 67: 'cell phone', 68: 'microwave', 69: 'oven', 70: 'toaster', 71: 'sink', 72: 'refrigerator', 73: 'book', 74: 'clock', 75: 'vase', 76: 'scissors', 77: 'teddy bear', 78: 'hair drier', 79: 'toothbrush'}\n",
       " obb: None\n",
       " orig_img: array([[[ 76, 106, 101],\n",
       "         [ 87, 117, 112],\n",
       "         [104, 133, 130],\n",
       "         ...,\n",
       "         [ 91,  95,  89],\n",
       "         [ 91,  95,  89],\n",
       "         [ 90,  94,  88]],\n",
       " \n",
       "        [[140, 170, 165],\n",
       "         [148, 178, 173],\n",
       "         [158, 187, 184],\n",
       "         ...,\n",
       "         [ 91,  95,  89],\n",
       "         [ 90,  94,  88],\n",
       "         [ 90,  94,  88]],\n",
       " \n",
       "        [[174, 205, 202],\n",
       "         [175, 206, 203],\n",
       "         [177, 208, 207],\n",
       "         ...,\n",
       "         [ 92,  96,  90],\n",
       "         [ 90,  94,  88],\n",
       "         [ 90,  94,  88]],\n",
       " \n",
       "        ...,\n",
       " \n",
       "        [[223, 231, 230],\n",
       "         [223, 231, 230],\n",
       "         [223, 231, 230],\n",
       "         ...,\n",
       "         [169, 190, 188],\n",
       "         [169, 190, 188],\n",
       "         [169, 190, 188]],\n",
       " \n",
       "        [[222, 230, 229],\n",
       "         [222, 230, 229],\n",
       "         [223, 231, 230],\n",
       "         ...,\n",
       "         [169, 190, 188],\n",
       "         [169, 190, 188],\n",
       "         [169, 190, 188]],\n",
       " \n",
       "        [[221, 229, 228],\n",
       "         [222, 230, 229],\n",
       "         [222, 230, 229],\n",
       "         ...,\n",
       "         [169, 190, 188],\n",
       "         [169, 190, 188],\n",
       "         [169, 190, 188]]], dtype=uint8)\n",
       " orig_shape: (1080, 1920)\n",
       " path: '/home/yaxun/FoundationPose/demo_data/realDex/rgb/73.jpg'\n",
       " probs: None\n",
       " save_dir: '/home/yaxun/FoundationPose/yolov10/runs/detect/predict2'\n",
       " speed: {'preprocess': 1.295328140258789, 'inference': 15.594005584716797, 'postprocess': 0.6861686706542969}]"
      ]
     },
     "execution_count": 3,
     "metadata": {},
     "output_type": "execute_result"
    }
   ],
   "source": [
    "from ultralytics import YOLOv10\n",
    "\n",
    "model = YOLOv10.from_pretrained('jameslahm/yolov10s')\n",
    "source = '/home/yaxun/FoundationPose/demo_data/realDex/rgb/73.jpg'\n",
    "model.predict(source=source, save=True)\n",
    "\n",
    "\n",
    "\n"
   ]
  }
 ],
 "metadata": {
  "kernelspec": {
   "display_name": "foundationpose",
   "language": "python",
   "name": "python3"
  },
  "language_info": {
   "codemirror_mode": {
    "name": "ipython",
    "version": 3
   },
   "file_extension": ".py",
   "mimetype": "text/x-python",
   "name": "python",
   "nbconvert_exporter": "python",
   "pygments_lexer": "ipython3",
   "version": "3.9.19"
  }
 },
 "nbformat": 4,
 "nbformat_minor": 2
}
